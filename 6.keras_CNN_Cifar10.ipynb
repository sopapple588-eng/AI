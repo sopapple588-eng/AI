# 匯入必要套件
from tensorflow import keras
from keras.models import Sequential
from keras.layers import Dense, Conv2D, MaxPooling2D, Flatten
import matplotlib.pyplot as plt
import numpy as np
import pandas as pd

# 建立 CNN 模型架構
model = Sequential()

# filters=64：建立64個卷積濾波器（feature maps）
# kernel_size=(5,5)：每個濾波器為5x5大小
# input_shape=(32,32,3)：輸入影像為32x32像素、RGB三通道
# activation='relu'：使用ReLU激活函數，提升非線性能力
model.add(Conv2D(filters=64, kernel_size=(5, 5), input_shape=(32, 32, 3), activation='relu'))

# 疊加64個卷積核，用來提取更深層特徵
model.add(Conv2D(filters=64, kernel_size=(5, 5), activation='relu'))

# 池化層 (MaxPooling)：每2x2取最大值，用來縮小影像尺寸、降低參數量
model.add(MaxPooling2D(pool_size=2))

# 使用128個濾波器，提取更高階特徵
model.add(Conv2D(filters=128, kernel_size=(5, 5), activation='relu'))

# 增加128個濾波器，強化深層特徵辨識
model.add(Conv2D(filters=128, kernel_size=(5, 5), activation='relu'))

# 再次降維以減少參數數量
model.add(MaxPooling2D(pool_size=2))

# 將多維特徵圖展平成一維向量，用於全連接層輸入
model.add(Flatten())

# 10個神經元，對應 CIFAR-10 的10個類別
# activation='softmax'：將輸出轉為機率分布
model.add(Dense(10, activation='softmax'))

# 顯示模型架構摘要
model.summary()

# 編譯模型
# optimizer='rmsprop'：RMSprop為自適應學習率優化器
# loss='categorical_crossentropy'：多分類交叉熵損失函數
# metrics=['accuracy']：追蹤訓練與測試的準確率
model.compile(optimizer='rmsprop', loss='categorical_crossentropy', metrics=['accuracy'])

#載入 CIFAR-10 資料集
# CIFAR-10 共含10類圖片，每類6000張，共50000訓練+10000測試
cifar10 = keras.datasets.cifar10
(train_data, train_label), (test_data, test_label) = cifar10.load_data()

# 保留原始標籤，用於之後的混淆矩陣分析
train_label_original = train_label

# 將標籤轉換為 One-hot 編碼格式（[0,0,0,1,0,0,0,0,0,0]）
train_label = keras.utils.to_categorical(train_label)
test_label = keras.utils.to_categorical(test_label)

# 類別名稱列表
category = ['airplane', 'automobile', 'bird', 'cat', 'deer',
            'dog', 'frog', 'horse', 'ship', 'truck']

# 顯示第一張訓練影像
plt.imshow(train_data[0])
plt.title(category[int(train_label_original[0])])  # 標示類別名稱
plt.show()

# 顯示該張圖片的原始標籤
print(train_label_original[0]) 

# 模型訓練
# epochs=30：訓練30次全資料集
# batch_size=512：每批訓練512張圖片
train_history = model.fit(train_data, train_label, epochs=30, batch_size=512)

# 模型評估
# 使用測試資料進行驗證
score = model.evaluate(test_data, test_label)
print("✅ 測試集準確率：", score[1])

# 繪製訓練過程圖
def show_train_history(train_history, train):
    plt.plot(train_history.history[train])
    plt.title('Train History')
    plt.ylabel(train)
    plt.xlabel('Epoch')
    plt.legend(['train'], loc='center right')
    plt.show()

# 顯示準確率變化
show_train_history(train_history, 'accuracy')
# 顯示損失變化
show_train_history(train_history, 'loss')

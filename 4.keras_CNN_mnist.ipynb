# 匯入 TensorFlow 的 Keras 模組
from tensorflow import keras
from keras.models import Sequential               # 建立序列式模型
from keras.layers import Dense, Conv2D, MaxPooling2D, Flatten # 匯入神經網路層

# 建立 CNN 模型
model = Sequential()

# filters=16: 代表使用16個卷積核
# kernel_size=(5,5): 每個卷積核的大小為5x5像素
# input_shape=(28,28,1): 輸入影像為28x28的灰階圖片 (1代表單一通道)
# activation='relu': 使用ReLU作為激活函數，將負值轉為0，加快速度
model.add(Conv2D(filters=16, kernel_size=(5, 5), input_shape=(28, 28, 1), activation='relu'))

# pool_size=(2,2): 將影像以2x2區塊做最大值取樣
model.add(MaxPooling2D(pool_size=(2, 2)))

# Flatten層：將2D特徵圖展平成1D向量以供全連接層使用
model.add(Flatten())

# 10個神經元對應10個數字類別
# 使用softmax激活函數輸出機率分佈
model.add(Dense(10, activation='softmax'))

# 顯示模型架構
model.summary()

# 編譯模型
# optimizer='rmsprop': 一種自動調整學習率的梯度下降優化器
# loss='categorical_crossentropy': 用於多分類任務
# metrics=['accuracy']: 追蹤準確率
model.compile(optimizer='rmsprop', loss='categorical_crossentropy', metrics=['accuracy'])

#載入 MNIST 手寫數字資料集
mnist = keras.datasets.mnist
(train_data, train_label), (test_data, test_label) = mnist.load_data()

# 為了之後的混淆矩陣保留原始測試標籤
test_label_original = test_label

train_label = keras.utils.to_categorical(train_label)
test_label = keras.utils.to_categorical(test_label)

# 調整輸入形狀與正規化
train_data = train_data.reshape(-1, 28, 28, 1).astype('float32') / 255
test_data = test_data.reshape(-1, 28, 28, 1).astype('float32') / 255

#訓練模型
# epochs=10 : 重複訓練10輪
# batch_size=512 : 每次更新使用512筆資料
train_history = model.fit(train_data, train_label, epochs=10, batch_size=512)

#使用測試資料評估模型
score = model.evaluate(test_data, test_label)
print(score[1])  # 輸出準確率

#繪製訓練過程圖
import matplotlib.pyplot as plt
import numpy as np

# 繪製訓練過程的函式
def show_train_history(train_history, train, validation):
    plt.plot(train_history.history[train])        # 繪製訓練資料的變化
    plt.plot(train_history.history[validation])  
    plt.title('Train History')
    plt.ylabel(train)
    plt.xlabel('Epoch')
    plt.legend(['train', 'validation'], loc='center right')
    plt.show()

# 繪製準確率與損失曲線
show_train_history(train_history, 'accuracy', 'accuracy')
show_train_history(train_history, 'loss', 'loss')

#混淆矩陣 (Confusion Matrix)
import pandas as pd

# 模型對測試資料的預測結果
prediction = model.predict(test_data)

# 取出每筆預測中機率最高的類別
prediction_label = np.argmax(prediction, axis=1)

print(test_label.shape)

# 建立混淆矩陣
pd.crosstab(test_label_original, prediction_label, 
            rownames=['label'], colnames=['predict'])

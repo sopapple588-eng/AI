from tensorflow import keras 
from keras.models import Sequential         # 建立模型
from keras.layers import Dense, Flatten     # 匯入 Dense與 Flatten

mnist = keras.datasets.mnist
(train_data, train_label), (test_data, test_label) = mnist.load_data()
# train_data  : 訓練影像 
# train_label : 對應的數字標籤 
# test_data   : 測試影像 
# test_label  : 測試標籤

print(type(train_data))
print(train_data.shape)
print(type(train_label))
print(train_label.shape)
print(test_data.shape)
print(test_label.shape)

print(train_label[0])    # 查看第一張圖片的標籤 
print(train_data[0])     # 顯示第一張圖片的像素矩陣

import matplotlib.pyplot as plt
plt.imshow(train_data[0], cmap='binary')   # 'binary' 灰階顯示
plt.show()

model = Sequential()  # 建立模型

model.add(Flatten())

# 第一層全連接層(Dense)：32個神經元，使用 ReLU 激活函數
# input_dim=784 表示輸入784維資料
model.add(Dense(32, activation='relu', input_dim=784))

# 輸出層(Dense)：10個神經元，使用 sigmoid 激活函數 
model.add(Dense(10, activation='sigmoid'))

# 編譯模型
model.compile(optimizer='rmsprop', 
              loss='sparse_categorical_crossentropy', 
              metrics=['accuracy'])

#開始訓練模型
model.fit(train_data, train_label, epochs=20, batch_size=512)

#評估模型效能
score = model.evaluate(test_data, test_label)

# score[0] = loss值，score[1] = 準確率(accuracy)
print(score[1])
